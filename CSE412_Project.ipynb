{
 "cells": [
  {
   "cell_type": "markdown",
   "id": "ae382ef0",
   "metadata": {},
   "source": [
    "To run this project make sure you have psycopg2, matplotlib and ipywidgets installed.\n",
    "Change the connection to the database to run on your local machine"
   ]
  },
  {
   "cell_type": "code",
   "execution_count": 136,
   "id": "e47cd673",
   "metadata": {
    "tags": []
   },
   "outputs": [
    {
     "name": "stdout",
     "output_type": "stream",
     "text": [
      "Connected to Database\n"
     ]
    }
   ],
   "source": [
    "import time\n",
    "import psycopg2\n",
    "import matplotlib.pyplot as plt\n",
    "import ipywidgets as widgets\n",
    "import numpy as np\n",
    "import csv\n",
    "conn = psycopg2.connect(database=\"cse412\", user = \"gatlinfarrington\", password = \"password\", host = \"localhost\", port = \"5432\")\n",
    "print(\"Connected to Database\")"
   ]
  },
  {
   "cell_type": "markdown",
   "id": "dbedf8c8",
   "metadata": {},
   "source": [
    "Database opening and reading params"
   ]
  },
  {
   "cell_type": "code",
   "execution_count": 137,
   "id": "512965d3",
   "metadata": {},
   "outputs": [
    {
     "name": "stdout",
     "output_type": "stream",
     "text": [
      "Opened Database\n",
      "PSQL server information\n",
      "{'user': 'gatlinfarrington', 'channel_binding': 'prefer', 'dbname': 'cse412', 'host': 'localhost', 'port': '5432', 'options': '', 'sslmode': 'prefer', 'sslcompression': '0', 'sslsni': '1', 'ssl_min_protocol_version': 'TLSv1.2', 'gssencmode': 'prefer', 'krbsrvname': 'postgres', 'target_session_attrs': 'any'} \n",
      "\n"
     ]
    }
   ],
   "source": [
    "print(\"Opened Database\")\n",
    "cursor = conn.cursor()\n",
    "#testing to make sure connection worked\n",
    "print(\"PSQL server information\")\n",
    "print(conn.get_dsn_parameters(), \"\\n\")"
   ]
  },
  {
   "cell_type": "markdown",
   "id": "1cfd6ed2",
   "metadata": {},
   "source": [
    "# ##this will add the events that were missing from the table."
   ]
  },
  {
   "cell_type": "code",
   "execution_count": 138,
   "id": "b3fb5767",
   "metadata": {},
   "outputs": [],
   "source": [
    "# eventQuery = \"INSERT INTO event (name, date, eid, location) VALUES (\"\n",
    "# eid=101\n",
    "# eventfile = 'ban08-12.csv'\n",
    "# with open(eventfile, 'r',encoding='utf-8') as csvfile:\n",
    "#     spamreader = csv.reader(csvfile, delimiter=',')\n",
    "#     for row in spamreader:\n",
    "#         date = \"\"\n",
    "#         name = \"\"\n",
    "#         location = \"\"\n",
    "#         #print(row)\n",
    "#         date = row[0]\n",
    "#         name = row[1]\n",
    "#         name = \"\".join(filter(lambda char: char != \"'\", name))\n",
    "#         location = row[2]\n",
    "#         print(date)\n",
    "#         print(name)\n",
    "#         print(location)\n",
    "#         eventQuery = f'INSERT INTO event (name, date, eid, location) VALUES (\\'{name}\\', \\'{date}\\', \\'{eid}\\', \\'{location}\\');'\n",
    "#         cursor.execute(eventQuery)\n",
    "#         eid+=1\n",
    "# conn.commit()"
   ]
  },
  {
   "cell_type": "markdown",
   "id": "be0cdb70",
   "metadata": {},
   "source": [
    "Build Country and abbreviation dictionary, run this to make sure that event can be linked to country"
   ]
  },
  {
   "cell_type": "code",
   "execution_count": 139,
   "id": "e8490dbf",
   "metadata": {},
   "outputs": [],
   "source": [
    "countryCodes = {}\n",
    "rowCnt = 0\n",
    "with open('countryCodes.csv', newline='') as csvfile:\n",
    "    spamreader = csv.reader(csvfile, delimiter=',', quotechar='|')\n",
    "    for row in spamreader:\n",
    "        if rowCnt != 0:\n",
    "            countryCodes[row[0]] = row[2]\n",
    "        rowCnt = rowCnt + 1"
   ]
  },
  {
   "cell_type": "markdown",
   "id": "16308a66",
   "metadata": {},
   "source": [
    "Dumping out athlete table, test DB read"
   ]
  },
  {
   "cell_type": "code",
   "execution_count": 140,
   "id": "88e3a3fc",
   "metadata": {},
   "outputs": [
    {
     "name": "stdout",
     "output_type": "stream",
     "text": [
      "Current Database Contents: \n",
      "[('Ahmed', 'Abd El Raouf', 'Egypt', 'Hammer throw', 2), ('Inga', 'Abitova', ' Russia', 'Long distance', 3), ('Folashade', 'Abugan', ' Nigeria', 'Sprinting', 4), ('Ibrahim', 'Mohamed Aden', 'Somalia', 'Middle distance', 5), ('Tosin', 'Adeloye', 'Nigeria', 'Sprinting', 6), ('Funke', 'Adeoye', 'Nigeria', 'Hammer throw', 7), ('Alessandra', 'Aguilar', 'Spain', 'Long distance', 8), ('Amina', 'At Hammou', 'Morocco', 'Middle distance', 9), ('Seltana', 'At Hammou', 'Morocco', 'Middle distance', 10), ('Chioma', 'Ajunwa', 'Nigeria', 'Long jump, sprinting', 11)] AND MORE\n"
     ]
    }
   ],
   "source": [
    "SelectAthleteQuery = \"SELECT * FROM athlete;\"\n",
    "cursor.execute(SelectAthleteQuery)\n",
    "record = cursor.fetchall()\n",
    "print(\"Current Database Contents: \")\n",
    "print(record[0:10],\"AND MORE\")\n",
    "conn.commit()"
   ]
  },
  {
   "cell_type": "markdown",
   "id": "5aa063d7",
   "metadata": {},
   "source": [
    "Most frequently used substances"
   ]
  },
  {
   "cell_type": "code",
   "execution_count": 141,
   "id": "da20e09b",
   "metadata": {},
   "outputs": [
    {
     "data": {
      "image/png": "[encoded data removed]",
      "text/plain": [
       "<Figure size 432x288 with 1 Axes>"
      ]
     },
     "metadata": {
      "needs_background": "light"
     },
     "output_type": "display_data"
    }
   ],
   "source": [
    "#FOR THE BAR GRAPH OF SUBSTANCES\n",
    "athlete=[]\n",
    "event=[]\n",
    "substances={}\n",
    "bans={}\n",
    "cursor.execute(f'SELECT * FROM ban;')\n",
    "rows=cursor.fetchall()\n",
    "for row in rows:\n",
    "    if row[1]!='Anabolic steroids' and row[1]!=\"\":\n",
    "        if row[1] not in substances:\n",
    "            substances.update({row[1]: 1})\n",
    "        else:\n",
    "            substances[row[1]]+=1\n",
    "    if row[4]!=\"\" and row[4].isnumeric() and int(row[4])<2022:\n",
    "        if row[4] not in bans:\n",
    "            bans.update({row[4]: 1})\n",
    "        else:\n",
    "            bans[row[4]]+=1\n",
    "sorted_substances = sorted(substances.items(), key=lambda x:x[1])\n",
    "while len(sorted_substances)>10:\n",
    "    sorted_substances.pop(0)\n",
    "sub = dict(sorted_substances)\n",
    "#print(sub)\n",
    "plt.bar(sub.keys(), sub.values(), color=['blue', 'cyan', 'purple'])\n",
    "plt.xticks(fontsize=8, rotation=45)\n",
    "plt.tight_layout()\n",
    "plt.title(\"Most Frequently Used Banned Substances\")\n",
    "plt.xlabel(\"Substance\")\n",
    "plt.ylabel(\"Number of Bans\")\n",
    "plt.tight_layout()\n",
    "plt.show()"
   ]
  },
  {
   "cell_type": "markdown",
   "id": "48acaace",
   "metadata": {},
   "source": [
    "Years with teh most bans"
   ]
  },
  {
   "cell_type": "code",
   "execution_count": 142,
   "id": "ca45041b",
   "metadata": {},
   "outputs": [
    {
     "name": "stdout",
     "output_type": "stream",
     "text": [
      "[('1972', 1), ('2017', 1), ('2020', 2), ('1980', 2), ('1983', 2), ('1988', 2), ('1976', 2), ('1975', 2), ('1986', 3), ('1979', 3), ('1985', 4), ('1981', 4), ('1989', 5), ('1978', 5), ('1984', 5), ('1977', 5), ('1991', 6), ('1998', 8), ('1994', 9), ('1997', 10), ('1990', 10), ('1987', 10), ('1995', 12), ('1992', 12), ('2016', 13), ('2002', 13), ('2000', 14), ('1996', 17), ('1993', 17), ('1999', 20), ('2001', 29), ('2015', 31), ('2005', 34), ('2003', 35), ('2006', 38), ('2007', 42), ('2004', 45), ('2014', 48), ('2008', 52), ('2010', 53), ('2013', 62), ('2009', 64), ('2012', 66), ('2011', 73)]\n"
     ]
    },
    {
     "data": {
      "image/png": "[encoded data removed]",
      "text/plain": [
       "<Figure size 432x288 with 1 Axes>"
      ]
     },
     "metadata": {
      "needs_background": "light"
     },
     "output_type": "display_data"
    }
   ],
   "source": [
    "#FOR THE TOTAL # Bans PER YEAR\n",
    "sorted_bans = sorted(bans.items(), key=lambda x:x[1])\n",
    "sorted_years = sorted(bans.items(), key=lambda x: x[0])\n",
    "print(sorted_bans)\n",
    "while len(sorted_bans)>10:\n",
    "    sorted_bans.pop(0)\n",
    "while len(sorted_years)>20:\n",
    "    sorted_years.pop(0)\n",
    "ban_years=dict(sorted_years)\n",
    "ban_dic = dict(sorted_bans)\n",
    "#print(sub)\n",
    "plt.bar(ban_dic.keys(), ban_dic.values(), color=['blue', 'cyan', 'purple'])\n",
    "plt.title(\"Years With The Most Bans\")\n",
    "plt.xlabel(\"Year\")\n",
    "plt.ylabel(\"Number of Bans\")\n",
    "plt.tight_layout()\n",
    "plt.show()"
   ]
  },
  {
   "cell_type": "code",
   "execution_count": 143,
   "id": "b0f0ed30",
   "metadata": {},
   "outputs": [
    {
     "name": "stdout",
     "output_type": "stream",
     "text": [
      "{'1999': 20, '2000': 14, '2001': 29, '2002': 13, '2003': 35, '2004': 45, '2005': 34, '2006': 38, '2007': 42, '2008': 52, '2009': 64, '2010': 53, '2011': 73, '2012': 66, '2013': 62, '2014': 48, '2015': 31, '2016': 13, '2017': 1, '2020': 2}\n"
     ]
    },
    {
     "data": {
      "image/png": "[encoded data removed]",
      "text/plain": [
       "<Figure size 432x288 with 1 Axes>"
      ]
     },
     "metadata": {
      "needs_background": "light"
     },
     "output_type": "display_data"
    }
   ],
   "source": [
    "#scatter plot for the years\n",
    "print(ban_years)\n",
    "plt.scatter(ban_years.keys(), ban_years.values(), color='purple')\n",
    "plt.xticks(fontsize=8, rotation=45)\n",
    "plt.title(\"Number of Bans Per Year From 1999-2000\")\n",
    "plt.xlabel(\"Year\")\n",
    "plt.ylabel(\"Number of Bans\")\n",
    "plt.tight_layout()\n",
    "plt.show()"
   ]
  },
  {
   "cell_type": "markdown",
   "id": "eff042e0",
   "metadata": {},
   "source": [
    "Number of Bans per Event"
   ]
  },
  {
   "cell_type": "code",
   "execution_count": 144,
   "id": "e576c8f7",
   "metadata": {},
   "outputs": [
    {
     "data": {
      "image/png": "[encoded data removed]",
      "text/plain": [
       "<Figure size 432x288 with 1 Axes>"
      ]
     },
     "metadata": {
      "needs_background": "light"
     },
     "output_type": "display_data"
    }
   ],
   "source": [
    "#FOR THE NUMBER OF BANS PER COUNTRY\n",
    "cursor.execute('SELECT count(*), event FROM athlete GROUP BY event ORDER BY count(*) desc;')\n",
    "rows=cursor.fetchall()\n",
    "countries={}\n",
    "events={}\n",
    "for row in rows:\n",
    "    if row[1] not in events:\n",
    "        events.update({row[1]: 1})\n",
    "        events[row[1]] = int(row[0])\n",
    "sorted_events = sorted(events.items(), key=lambda x: x[1])\n",
    "while len(sorted_events)>10:\n",
    "    sorted_events.pop(0)\n",
    "event_dic = dict(sorted_events)\n",
    "plt.bar(event_dic.keys(), event_dic.values(), color=['blue', 'cyan', 'purple'])\n",
    "plt.xticks(fontsize=8, rotation=45)\n",
    "plt.title(\"Track and Field Events With The Most Bans\")\n",
    "plt.xlabel(\"T&F Event\")\n",
    "plt.ylabel(\"Number of Bans\")\n",
    "plt.tight_layout()\n",
    "plt.show()"
   ]
  },
  {
   "cell_type": "markdown",
   "id": "c3489f97",
   "metadata": {},
   "source": [
    "Number of Bans per Country"
   ]
  },
  {
   "cell_type": "code",
   "execution_count": 145,
   "id": "66f45f2d",
   "metadata": {
    "scrolled": false
   },
   "outputs": [
    {
     "data": {
      "image/png": "[encoded data removed]",
      "text/plain": [
       "<Figure size 432x288 with 1 Axes>"
      ]
     },
     "metadata": {
      "needs_background": "light"
     },
     "output_type": "display_data"
    }
   ],
   "source": [
    "cursor.execute('SELECT count(*), country FROM athlete GROUP BY country ORDER BY count(*) desc;')\n",
    "rows = cursor.fetchall()\n",
    "for row in rows:\n",
    "    if row[1] not in events:\n",
    "        countries.update({row[1]: 1})\n",
    "        countries[row[1]] = int(row[0])\n",
    "sorted_count = sorted(countries.items(), key=lambda x:x[1])\n",
    "while len(sorted_count)>10:\n",
    "    sorted_count.pop(0)\n",
    "country_dic = dict(sorted_count)\n",
    "plt.bar(country_dic.keys(), country_dic.values(), color=['blue', 'cyan', 'purple'])\n",
    "plt.xticks(fontsize=8, rotation=45)\n",
    "plt.title(\"Countries With The Most Banned Athletes\")\n",
    "plt.xlabel(\"Country\")\n",
    "plt.ylabel(\"Number of Bans\")\n",
    "plt.tight_layout()\n",
    "plt.show()"
   ]
  },
  {
   "cell_type": "markdown",
   "id": "1fbaf1c8",
   "metadata": {},
   "source": [
    "Find the people that have been banned more than once."
   ]
  },
  {
   "cell_type": "code",
   "execution_count": 146,
   "id": "34435bb7",
   "metadata": {},
   "outputs": [
    {
     "name": "stdout",
     "output_type": "stream",
     "text": [
      "Barakat  Al-Harthi has been banned 2 times.\n",
      "Mohamed  El Hachimi has been banned 2 times.\n"
     ]
    }
   ],
   "source": [
    "query = 'SELECT fName, lName, count(*) AS repeats FROM athlete GROUP BY fName, lName HAVING count(*) > 1;'\n",
    "cursor.execute(query)\n",
    "rows = cursor.fetchall()\n",
    "for row in rows:\n",
    "    print(row[0], '', row[1], 'has been banned', row[2], 'times.')"
   ]
  },
  {
   "cell_type": "code",
   "execution_count": 147,
   "id": "010692de",
   "metadata": {},
   "outputs": [],
   "source": [
    "allCountries = [] #Global List of Countries in Database\n",
    "allSubstances = [] #Global List of Countries in Database\n",
    "\n",
    "cursor.execute('SELECT DISTINCT country FROM athlete ORDER BY country;')\n",
    "rows = cursor.fetchall()\n",
    "for row in rows:\n",
    "    if row[0] != '':\n",
    "        if row[0][0] != ' ':\n",
    "            allCountries.append(row[0]) \n",
    "        else:\n",
    "            allCountries.append(row[0][1:len(row[0])]) #Get rid of the space at the beginning of a few entries\n",
    "\n",
    "cursor.execute('SELECT DISTINCT substance FROM ban ORDER BY substance;')\n",
    "rows = cursor.fetchall()\n",
    "for row in rows:\n",
    "    allSubstances.append(row[0])"
   ]
  },
  {
   "cell_type": "markdown",
   "id": "34ab45da",
   "metadata": {},
   "source": [
    "Build Lists of Countries and Substances"
   ]
  },
  {
   "cell_type": "markdown",
   "id": "31ccb5fc",
   "metadata": {},
   "source": [
    "Select which country and or substance to look at information on"
   ]
  },
  {
   "cell_type": "code",
   "execution_count": 148,
   "id": "a1246bed",
   "metadata": {},
   "outputs": [
    {
     "data": {
      "application/vnd.jupyter.widget-view+json": {
       "model_id": "28ac05079d8e42678b5eb76b4d83f282",
       "version_major": 2,
       "version_minor": 0
      },
      "text/plain": [
       "Box(children=(Dropdown(description='Substance:', options=('(BALCO scandal)', '(not illegal at the time)', '17_…"
      ]
     },
     "metadata": {},
     "output_type": "display_data"
    }
   ],
   "source": [
    "countryMenu = widgets.Dropdown(options=allCountries, description=\"Country:\")\n",
    "countryMenu\n",
    "substanceMenu = widgets.Dropdown(options=allSubstances, description =\"Substance:\")\n",
    "substanceMenu\n",
    "items = [substanceMenu, countryMenu]\n",
    "box = widgets.Box(children=items)\n",
    "box"
   ]
  },
  {
   "cell_type": "markdown",
   "id": "5c65c8cb",
   "metadata": {},
   "source": [
    "Get the Average bans per year in a specific country"
   ]
  },
  {
   "cell_type": "code",
   "execution_count": 149,
   "id": "8b705c7a",
   "metadata": {},
   "outputs": [
    {
     "name": "stdout",
     "output_type": "stream",
     "text": [
      "The country: Nigeria has had 22 bans committed against athletes from that country.\n"
     ]
    }
   ],
   "source": [
    "query = f\"SELECT count(bid) FROM ban, athlete WHERE athlete.aid = ban.aid AND athlete.country = \\'{countryMenu.value}\\';\"\n",
    "cursor.execute(query)\n",
    "numBans = cursor.fetchall()[0][0]\n",
    "print(f'The country: {countryMenu.value} has had {numBans} bans committed against athletes from that country.')"
   ]
  },
  {
   "cell_type": "markdown",
   "id": "685f4cc9",
   "metadata": {},
   "source": [
    "Show the number of bans for the selected substance"
   ]
  },
  {
   "cell_type": "code",
   "execution_count": 150,
   "id": "82e8bcf7",
   "metadata": {},
   "outputs": [
    {
     "name": "stdout",
     "output_type": "stream",
     "text": [
      "There have been 1 ban(s) due to (BALCO scandal) being used.\n"
     ]
    }
   ],
   "source": [
    "query = f\"SELECT count(*) FROM ban WHERE substance=\\'{substanceMenu.value}\\';\"\n",
    "cursor.execute(query)\n",
    "numBans = cursor.fetchall()[0][0]\n",
    "print(f'There have been {numBans} ban(s) due to {substanceMenu.value} being used.')"
   ]
  },
  {
   "cell_type": "markdown",
   "id": "12093be0",
   "metadata": {},
   "source": [
    "Show the events that have happened in the given country (using the countryCodes dictionary built at the top of the notebook)"
   ]
  },
  {
   "cell_type": "code",
   "execution_count": 151,
   "id": "c7d3faea",
   "metadata": {},
   "outputs": [],
   "source": [
    "#SELECT SUBSTRING(location, length(location)-3, 3) FROM event; will give the country code from event\n",
    "query = f\"SELECT name, date FROM event WHERE SUBSTRING(location, length(location)-3, 3) = \\'{countryCodes[countryMenu.value]}\\';\"\n",
    "cursor.execute(query)\n",
    "rows = cursor.fetchall()\n",
    "for row in rows:\n",
    "    print(f\"The event: {row[0]} took place in {countryMenu.value} ({countryCodes[countryMenu.value]}) on {row[1]}\")"
   ]
  },
  {
   "cell_type": "markdown",
   "id": "23459167",
   "metadata": {},
   "source": [
    "Athletes potentially doping for specific events (matching country of athlete, country of event, time of ban and time of event):"
   ]
  },
  {
   "cell_type": "code",
   "execution_count": 152,
   "id": "03b254f5",
   "metadata": {},
   "outputs": [],
   "source": [
    "#Need to populate the event table with events pre 2020 for this to work properly. Web scraping the data\n",
    "#Source is proving to be a challenge.\n",
    "query = f\"\"\"SELECT athlete.fName AS firstName, athlete.lName AS LastName, event.name AS \n",
    "eventName, ban.date, ban.substance FROM ban, athlete, event \n",
    "WHERE athlete.aid = ban.aid AND \n",
    "athlete.country = \\'{countryMenu.value}\\' \n",
    "AND SUBSTRING(event.location, length(event.location)-3, 3) = \\'{countryCodes[countryMenu.value]}\\'\n",
    "AND ban.date = SUBSTRING(event.date, length(event.date) - 3, 4);\"\"\"\n",
    "cursor.execute(query)\n",
    "rows = cursor.fetchall()\n",
    "for row in rows:\n",
    "    print(f\"{row[0]} {row[1]} Was potentially banned from {row[2]} in {row[3]} for using {row[4]} \")"
   ]
  },
  {
   "cell_type": "markdown",
   "id": "e013b4d9",
   "metadata": {},
   "source": [
    "All athletes and their ban information from a given country"
   ]
  },
  {
   "cell_type": "code",
   "execution_count": 153,
   "id": "2c36a65d",
   "metadata": {},
   "outputs": [
    {
     "name": "stdout",
     "output_type": "stream",
     "text": [
      "('Tosin', 'Adeloye', 'Nigeria', 'Sprinting', 6, 6, 'Metenolone', '2 years', 6, '2012')\n",
      "('Tosin', 'Adeloye', 'Nigeria', 'Sprinting', 6, 7, 'Exogenous steroids', '8 years', 6, '2015')\n",
      "('Funke', 'Adeoye', 'Nigeria', 'Hammer throw', 7, 8, 'Ephedrine', 'Public warning', 7, '2007')\n",
      "('Gloria', 'Amuche Nwosu', 'Nigeria', 'Sprinting', 25, 30, 'Testosterone', '2 years', 25, '2005')\n",
      "('Olutoyin', 'Augustus', 'Nigeria', 'Hurdles', 53, 58, 'Abnormaltestosteronelevels', '2 years', 53, '2009')\n",
      "('Vivian', 'Chukwuemeka', 'Nigeria', 'Shot put and discus', 178, 202, 'Oxymetholone', '2 years', 178, '2009')\n",
      "('Vivian', 'Chukwuemeka', 'Nigeria', 'Shot put and discus', 178, 203, 'Stanozolol', 'Life ban', 178, '2012')\n",
      "('Daniel', 'Effiong', 'Nigeria', 'Sprinting', 252, 285, 'Methyltestosteroneandephedrine', '4 years', 252, '1995')\n",
      "('Christy', 'Ekpukhon', 'Nigeria', 'Sprinting', 255, 288, 'Metenolone', '2 years', 255, '2008')\n",
      "('Davidson', 'Ezinwa', 'Nigeria', 'Sprinting', 277, 312, 'Ephedrine', '3 months', 277, '1996')\n",
      "('Davidson', 'Ezinwa', 'Nigeria', 'Sprinting', 277, 313, 'hCG', '2 years', 277, '1999')\n",
      "('Osmond', 'Ezinwa', 'Nigeria', 'Sprinting', 278, 314, 'Ephedrine', '3 months', 278, '1996')\n",
      "('Cecilia', 'Francis', 'Nigeria', 'Sprinting', 294, 332, 'Metenolone', '1 year', 294, '2013')\n",
      "('Samson', 'Idiata', 'Nigeria', 'Long jump', 387, 439, 'Clenbuterol', '4 years', 387, '2015')\n",
      "('Gloria', 'Kemasuode', 'Nigeria', 'Sprinting', 436, 492, 'Metenolone,ephedrine', '2 years', 436, '2009')\n",
      "('Bola', 'Gee Lawal', 'Nigeria', 'Sprinting', 501, 567, 'Methandienone', '2 years', 501, '2010')\n",
      "('Amaka', 'Ogoegbunam', 'Nigeria', 'Sprinting', 634, 712, 'Metenolone', '3 years', 634, '2009')\n",
      "('Samuel', 'Okon', 'Nigeria', 'Hurdling', 638, 717, 'Methylhexanamine', '', 638, '2010')\n",
      "('Omolara', 'Omotosho', 'Nigeria', 'Sprinting', 640, 719, 'Metenolone', '2 years', 640, '2009')\n",
      "('Mary', 'Onyali-Omagbemi', 'Nigeria', 'Sprinting', 641, 720, 'Ephedrine', '3 months', 641, '1996')\n",
      "('Oludamola', 'Osayomi', 'Nigeria', 'Sprinting', 647, 728, 'Methylhexaneamine', '', 647, '2010')\n",
      "('Lawretta', 'Ozoh', 'Nigeria', 'Sprinting', 651, 733, 'Stanozolol', '2 years', 651, '2012')\n"
     ]
    }
   ],
   "source": [
    "query = f\"\"\"\n",
    "SELECT * FROM athlete, ban \n",
    "WHERE athlete.aid = ban.aid \n",
    "AND athlete.country = \\'{countryMenu.value}\\'\"\"\"\n",
    "#could also be\n",
    "query = f\"\"\"SELECT * FROM \n",
    "athlete JOIN ban ON athlete.aid = ban.aid \n",
    "WHERE athlete.country = \\'{countryMenu.value}\\'\"\"\"\n",
    "\n",
    "cursor.execute(query)\n",
    "rows = cursor.fetchall()\n",
    "for row in rows:\n",
    "    print(row)"
   ]
  },
  {
   "cell_type": "code",
   "execution_count": 164,
   "id": "012ac463",
   "metadata": {},
   "outputs": [
    {
     "data": {
      "application/vnd.jupyter.widget-view+json": {
       "model_id": "db3f9f1c286949ee866a381b879d4f97",
       "version_major": 2,
       "version_minor": 0
      },
      "text/plain": [
       "Box(children=(IntText(value=1, description='Months:'), IntText(value=1, description='Years:')))"
      ]
     },
     "metadata": {},
     "output_type": "display_data"
    }
   ],
   "source": [
    "numberBoxMonths = widgets.IntText(value=1,\n",
    "    description='Months:',\n",
    "    disabled=False)\n",
    "numberBoxYears = widgets.IntText(value=1,\n",
    "    description='Years:',\n",
    "    disabled=False)\n",
    "items = [numberBoxMonths, numberBoxYears]\n",
    "box = widgets.Box(children=items)\n",
    "box"
   ]
  },
  {
   "cell_type": "code",
   "execution_count": 167,
   "id": "bb8c2d8a",
   "metadata": {},
   "outputs": [
    {
     "name": "stdout",
     "output_type": "stream",
     "text": [
      "Mohamed El Hachimi got banned for 6 years due to the use of CERA\n",
      "Rbert Fazekas got banned for 6 years due to the use of Stanozolol\n",
      "Mohamed El Hachimi got banned for 6 years due to the use of CERA\n"
     ]
    }
   ],
   "source": [
    "query = f\"\"\"SELECT * FROM athlete JOIN ban ON athlete.aid = ban.aid\n",
    "WHERE ban.banlength LIKE \\'{numberBoxYears.value} years\\'\"\"\"\n",
    "cursor.execute(query)\n",
    "rows = cursor.fetchall()\n",
    "for row in rows:\n",
    "    print(f\"{row[0]} {row[1]} got banned for {row[7]} due to the use of {row[6]}\")"
   ]
  },
  {
   "cell_type": "code",
   "execution_count": 168,
   "id": "21addb35",
   "metadata": {},
   "outputs": [
    {
     "name": "stdout",
     "output_type": "stream",
     "text": [
      "Jessica Cosby got banned for 4 months due to the use of Hydrochlorothiazide,chlorothiazide\n",
      "Abdellah Haidane got banned for 4 months due to the use of Tuaminoheptane\n",
      "Rhys Williams got banned for 4 months due to the use of 17_-hydroxyestra-4,9-diene-3-one\n"
     ]
    }
   ],
   "source": [
    "query = f\"\"\"SELECT * FROM athlete JOIN ban ON athlete.aid = ban.aid\n",
    "WHERE ban.banlength LIKE \\'{numberBoxMonths.value} months\\'\"\"\"\n",
    "cursor.execute(query)\n",
    "rows = cursor.fetchall()\n",
    "for row in rows:\n",
    "    print(f\"{row[0]} {row[1]} got banned for {row[7]} due to the use of {row[6]}\")"
   ]
  },
  {
   "cell_type": "code",
   "execution_count": null,
   "id": "a35f7ceb",
   "metadata": {},
   "outputs": [],
   "source": []
  }
 ],
 "metadata": {
  "kernelspec": {
   "display_name": "Python 3 (ipykernel)",
   "language": "python",
   "name": "python3"
  },
  "language_info": {
   "codemirror_mode": {
    "name": "ipython",
    "version": 3
   },
   "file_extension": ".py",
   "mimetype": "text/x-python",
   "name": "python",
   "nbconvert_exporter": "python",
   "pygments_lexer": "ipython3",
   "version": "3.9.12"
  },
  "vscode": {
   "interpreter": {
    "hash": "b0fa6594d8f4cbf19f97940f81e996739fb7646882a419484c72d19e05852a7e"
   }
  }
 },
 "nbformat": 4,
 "nbformat_minor": 5
}
